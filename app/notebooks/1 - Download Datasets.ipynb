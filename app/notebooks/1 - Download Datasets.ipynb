{
 "cells": [
  {
   "cell_type": "markdown",
   "id": "20321724",
   "metadata": {},
   "source": [
    "Instead of downloading/unzipping the data seperately we will do that in the script as well so it is automated. We can use the terminal command curl which allows us to download the files directly"
   ]
  },
  {
   "cell_type": "code",
   "execution_count": 9,
   "id": "b957b5c0",
   "metadata": {},
   "outputs": [],
   "source": [
    "import pathlib\n",
    "\n",
    "PROJECT_DIR = pathlib.Path().resolve().parent.parent\n",
    "DATA_DIR = PROJECT_DIR / \"data\"\n",
    "ZIPS_DIR = DATA_DIR / \"zips\"\n",
    "ZIPS_DIR.mkdir(exist_ok=True, parents=True)\n",
    "\n",
    "SMS_SPAM_ZIP_PATH = ZIPS_DIR / \"sms-spam-dataset.zip\"\n",
    "YOUTUBE_SPAM_ZIP_PATH = ZIPS_DIR / \"youtube-spam-dataset.zip\""
   ]
  },
  {
   "cell_type": "code",
   "execution_count": null,
   "id": "0e6d368c",
   "metadata": {},
   "outputs": [],
   "source": [
    "SMS_SPAM_ZIP = r\"https://archive.ics.uci.edu/ml/machine-learning-databases/00228/smsspamcollection.zip\"\n",
    "YOUTUBE_SPAM_ZIP = r\"https://archive.ics.uci.edu/ml/machine-learning-databases/00380/YouTube-Spam-Collection-v1.zip\""
   ]
  },
  {
   "cell_type": "code",
   "execution_count": 10,
   "id": "54951c77",
   "metadata": {},
   "outputs": [
    {
     "name": "stderr",
     "output_type": "stream",
     "text": [
      "  % Total    % Received % Xferd  Average Speed   Time    Time     Time  Current\n",
      "                                 Dload  Upload   Total   Spent    Left  Speed\n",
      "\n",
      "  0     0    0     0    0     0      0      0 --:--:-- --:--:-- --:--:--     0\n",
      " 46  198k   46 95232    0     0  95232      0  0:00:02 --:--:--  0:00:02  175k\n",
      "100  198k  100  198k    0     0   198k      0  0:00:01 --:--:--  0:00:01  363k\n"
     ]
    }
   ],
   "source": [
    "!curl https://archive.ics.uci.edu/ml/machine-learning-databases/00228/smsspamcollection.zip -o $SMS_SPAM_ZIP_PATH\n"
   ]
  },
  {
   "cell_type": "code",
   "execution_count": null,
   "id": "7b0d5d89",
   "metadata": {},
   "outputs": [],
   "source": []
  }
 ],
 "metadata": {
  "kernelspec": {
   "display_name": "Python 3 (ipykernel)",
   "language": "python",
   "name": "python3"
  },
  "language_info": {
   "codemirror_mode": {
    "name": "ipython",
    "version": 3
   },
   "file_extension": ".py",
   "mimetype": "text/x-python",
   "name": "python",
   "nbconvert_exporter": "python",
   "pygments_lexer": "ipython3",
   "version": "3.8.1"
  }
 },
 "nbformat": 4,
 "nbformat_minor": 5
}
