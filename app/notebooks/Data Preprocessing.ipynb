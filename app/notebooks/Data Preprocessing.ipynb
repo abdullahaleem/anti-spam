{
 "cells": [
  {
   "cell_type": "markdown",
   "id": "0f676e1e",
   "metadata": {},
   "source": [
    "# 1. Downloading Datasets\n",
    "Instead of downloading/unzipping the data seperately we will do that in the script as well so it is automated. We can use the terminal command curl which allows us to download the files directly"
   ]
  },
  {
   "cell_type": "code",
   "execution_count": 1,
   "id": "072de0a1",
   "metadata": {},
   "outputs": [],
   "source": [
    "import pathlib\n",
    "\n",
    "PROJECT_DIR = pathlib.Path().resolve().parent.parent\n",
    "DATA_DIR = PROJECT_DIR / \"data\"\n",
    "ZIPS_DIR = DATA_DIR / \"zips\"\n",
    "ZIPS_DIR.mkdir(exist_ok=True, parents=True)\n",
    "\n",
    "# paths where the zipped data would be downloaded to locally\n",
    "SMS_SPAM_ZIP_PATH = ZIPS_DIR / \"sms-spam-dataset.zip\"\n",
    "YOUTUBE_SPAM_ZIP_PATH = ZIPS_DIR / \"youtube-spam-dataset.zip\"\n",
    "\n",
    "# paths to the zipped data is to be downloaded from\n",
    "SMS_SPAM_ZIP = r\"https://archive.ics.uci.edu/ml/machine-learning-databases/00228/smsspamcollection.zip\"\n",
    "YOUTUBE_SPAM_ZIP = r\"https://archive.ics.uci.edu/ml/machine-learning-databases/00380/YouTube-Spam-Collection-v1.zip\""
   ]
  },
  {
   "cell_type": "code",
   "execution_count": 2,
   "id": "cf7319a3",
   "metadata": {},
   "outputs": [
    {
     "name": "stderr",
     "output_type": "stream",
     "text": [
      "  % Total    % Received % Xferd  Average Speed   Time    Time     Time  Current\n",
      "                                 Dload  Upload   Total   Spent    Left  Speed\n",
      "\n",
      "  0     0    0     0    0     0      0      0 --:--:-- --:--:-- --:--:--     0\n",
      "  0     0    0     0    0     0      0      0 --:--:-- --:--:-- --:--:--     0\n",
      "100  198k  100  198k    0     0   198k      0  0:00:01 --:--:--  0:00:01  453k\n",
      "  % Total    % Received % Xferd  Average Speed   Time    Time     Time  Current\n",
      "                                 Dload  Upload   Total   Spent    Left  Speed\n",
      "\n",
      "  0     0    0     0    0     0      0      0 --:--:-- --:--:-- --:--:--     0\n",
      "100  159k  100  159k    0     0   159k      0  0:00:01 --:--:--  0:00:01  378k\n"
     ]
    }
   ],
   "source": [
    "# terminal command to download the data the data to our specified paths\n",
    "!curl $SMS_SPAM_ZIP -o $SMS_SPAM_ZIP_PATH\n",
    "!curl $YOUTUBE_SPAM_ZIP -o $YOUTUBE_SPAM_ZIP_PATH"
   ]
  },
  {
   "cell_type": "code",
   "execution_count": 3,
   "id": "166575c1",
   "metadata": {},
   "outputs": [],
   "source": [
    "# paths where the dataset would be unzipped to\n",
    "SPAM_CLASSIFIER_DIR = DATA_DIR / \"spam-classifier\"\n",
    "SMS_SPAM_DIR = SPAM_CLASSIFIER_DIR / \"sms_spam\"\n",
    "YOUTUBE_SPAM_DIR = SPAM_CLASSIFIER_DIR / \"youtube_spam\"\n",
    "\n",
    "SMS_SPAM_DIR.mkdir(exist_ok=True, parents=True)\n",
    "YOUTUBE_SPAM_DIR.mkdir(exist_ok=True, parents=True)"
   ]
  },
  {
   "cell_type": "code",
   "execution_count": 4,
   "id": "0d9f82a7",
   "metadata": {},
   "outputs": [],
   "source": [
    "# unzipping the downloaded dataset to the paths defined above\n",
    "import platform\n",
    "\n",
    "os_name = platform.system()\n",
    "print(f\"OS: {os_name}\")\n",
    "\n",
    "if os_name == \"Windows\":\n",
    "    !tar -xf $SMS_SPAM_ZIP_PATH -C $SMS_SPAM_DIR\n",
    "    !tar -xf $YOUTUBE_SPAM_ZIP_PATH -C $YOUTUBE_SPAM_DIR\n",
    "else:\n",
    "    # (-o flag will override the previous zip if the command if run again)\n",
    "    !unzip -o $SMS_SPAM_ZIP_PATH -d $SMS_SPAM_DIR \n",
    "    !unzip -o $YOUTUBE_SPAM_ZIP_PATH -d $YOUTUBE_SPAM_DIR"
   ]
  },
  {
   "cell_type": "markdown",
   "id": "fd112e4c",
   "metadata": {},
   "source": [
    "# 2. Extracting, Reviewing and Combining Datasets\n",
    "In general for big data, if we are gonna eb storing in a db then we would keep all the data and store them individually. \n",
    "\n",
    "There are more things that we can do here e.g. getting rid of duplicates (we need to worry about that in the long run). In the long run we would need alot more data than this (hunderds of thousands)"
   ]
  },
  {
   "cell_type": "code",
   "execution_count": 9,
   "id": "46b9a497",
   "metadata": {},
   "outputs": [],
   "source": [
    "import pandas as pd"
   ]
  },
  {
   "cell_type": "code",
   "execution_count": 37,
   "id": "e730ea6e",
   "metadata": {},
   "outputs": [
    {
     "data": {
      "text/html": [
       "<div>\n",
       "<style scoped>\n",
       "    .dataframe tbody tr th:only-of-type {\n",
       "        vertical-align: middle;\n",
       "    }\n",
       "\n",
       "    .dataframe tbody tr th {\n",
       "        vertical-align: top;\n",
       "    }\n",
       "\n",
       "    .dataframe thead th {\n",
       "        text-align: right;\n",
       "    }\n",
       "</style>\n",
       "<table border=\"1\" class=\"dataframe\">\n",
       "  <thead>\n",
       "    <tr style=\"text-align: right;\">\n",
       "      <th></th>\n",
       "      <th>label</th>\n",
       "      <th>text</th>\n",
       "      <th>raw_label</th>\n",
       "      <th>source</th>\n",
       "    </tr>\n",
       "  </thead>\n",
       "  <tbody>\n",
       "    <tr>\n",
       "      <th>0</th>\n",
       "      <td>ham</td>\n",
       "      <td>Go until jurong point, crazy.. Available only ...</td>\n",
       "      <td>0</td>\n",
       "      <td>sms-spam</td>\n",
       "    </tr>\n",
       "    <tr>\n",
       "      <th>1</th>\n",
       "      <td>ham</td>\n",
       "      <td>Ok lar... Joking wif u oni...</td>\n",
       "      <td>0</td>\n",
       "      <td>sms-spam</td>\n",
       "    </tr>\n",
       "    <tr>\n",
       "      <th>2</th>\n",
       "      <td>spam</td>\n",
       "      <td>Free entry in 2 a wkly comp to win FA Cup fina...</td>\n",
       "      <td>1</td>\n",
       "      <td>sms-spam</td>\n",
       "    </tr>\n",
       "    <tr>\n",
       "      <th>3</th>\n",
       "      <td>ham</td>\n",
       "      <td>U dun say so early hor... U c already then say...</td>\n",
       "      <td>0</td>\n",
       "      <td>sms-spam</td>\n",
       "    </tr>\n",
       "    <tr>\n",
       "      <th>4</th>\n",
       "      <td>ham</td>\n",
       "      <td>Nah I don't think he goes to usf, he lives aro...</td>\n",
       "      <td>0</td>\n",
       "      <td>sms-spam</td>\n",
       "    </tr>\n",
       "  </tbody>\n",
       "</table>\n",
       "</div>"
      ],
      "text/plain": [
       "  label                                               text  raw_label  \\\n",
       "0   ham  Go until jurong point, crazy.. Available only ...          0   \n",
       "1   ham                      Ok lar... Joking wif u oni...          0   \n",
       "2  spam  Free entry in 2 a wkly comp to win FA Cup fina...          1   \n",
       "3   ham  U dun say so early hor... U c already then say...          0   \n",
       "4   ham  Nah I don't think he goes to usf, he lives aro...          0   \n",
       "\n",
       "     source  \n",
       "0  sms-spam  \n",
       "1  sms-spam  \n",
       "2  sms-spam  \n",
       "3  sms-spam  \n",
       "4  sms-spam  "
      ]
     },
     "execution_count": 37,
     "metadata": {},
     "output_type": "execute_result"
    }
   ],
   "source": [
    "sms_spam_input_path = SMS_SPAM_DIR / \"SMSSpamCollection\" # tsv\n",
    "#sms_spam_input_path.read_text()\n",
    "\n",
    "sms_df = pd.read_csv(sms_spam_input_path, sep=\"\\t\", header=None, names=[\"label\", \"text\"])\n",
    "sms_df[\"raw_label\"] = sms_df[\"label\"].apply(lambda x: 1 if x==\"spam\" else 0)\n",
    "sms_df[\"source\"] = \"sms-spam\" # to distingush later\n",
    "sms_df.head()"
   ]
  },
  {
   "cell_type": "code",
   "execution_count": 38,
   "id": "1d2c9323",
   "metadata": {},
   "outputs": [
    {
     "data": {
      "text/html": [
       "<div>\n",
       "<style scoped>\n",
       "    .dataframe tbody tr th:only-of-type {\n",
       "        vertical-align: middle;\n",
       "    }\n",
       "\n",
       "    .dataframe tbody tr th {\n",
       "        vertical-align: top;\n",
       "    }\n",
       "\n",
       "    .dataframe thead th {\n",
       "        text-align: right;\n",
       "    }\n",
       "</style>\n",
       "<table border=\"1\" class=\"dataframe\">\n",
       "  <thead>\n",
       "    <tr style=\"text-align: right;\">\n",
       "      <th></th>\n",
       "      <th>text</th>\n",
       "      <th>raw_label</th>\n",
       "      <th>label</th>\n",
       "      <th>source</th>\n",
       "    </tr>\n",
       "  </thead>\n",
       "  <tbody>\n",
       "    <tr>\n",
       "      <th>0</th>\n",
       "      <td>Huh, anyway check out this you[tube] channel: ...</td>\n",
       "      <td>1</td>\n",
       "      <td>spam</td>\n",
       "      <td>youtube-spam</td>\n",
       "    </tr>\n",
       "    <tr>\n",
       "      <th>1</th>\n",
       "      <td>Hey guys check out my new channel and our firs...</td>\n",
       "      <td>1</td>\n",
       "      <td>spam</td>\n",
       "      <td>youtube-spam</td>\n",
       "    </tr>\n",
       "    <tr>\n",
       "      <th>2</th>\n",
       "      <td>just for test I have to say murdev.com</td>\n",
       "      <td>1</td>\n",
       "      <td>spam</td>\n",
       "      <td>youtube-spam</td>\n",
       "    </tr>\n",
       "    <tr>\n",
       "      <th>3</th>\n",
       "      <td>me shaking my sexy ass on my channel enjoy ^_^ ﻿</td>\n",
       "      <td>1</td>\n",
       "      <td>spam</td>\n",
       "      <td>youtube-spam</td>\n",
       "    </tr>\n",
       "    <tr>\n",
       "      <th>4</th>\n",
       "      <td>watch?v=vtaRGgvGtWQ   Check this out .﻿</td>\n",
       "      <td>1</td>\n",
       "      <td>spam</td>\n",
       "      <td>youtube-spam</td>\n",
       "    </tr>\n",
       "  </tbody>\n",
       "</table>\n",
       "</div>"
      ],
      "text/plain": [
       "                                                text  raw_label label  \\\n",
       "0  Huh, anyway check out this you[tube] channel: ...          1  spam   \n",
       "1  Hey guys check out my new channel and our firs...          1  spam   \n",
       "2             just for test I have to say murdev.com          1  spam   \n",
       "3   me shaking my sexy ass on my channel enjoy ^_^ ﻿          1  spam   \n",
       "4            watch?v=vtaRGgvGtWQ   Check this out .﻿          1  spam   \n",
       "\n",
       "         source  \n",
       "0  youtube-spam  \n",
       "1  youtube-spam  \n",
       "2  youtube-spam  \n",
       "3  youtube-spam  \n",
       "4  youtube-spam  "
      ]
     },
     "execution_count": 38,
     "metadata": {},
     "output_type": "execute_result"
    }
   ],
   "source": [
    "youtube_dfs = []\n",
    "for path in YOUTUBE_SPAM_DIR.glob(\"*.csv\"): # reads only csv files in the folder\n",
    "    df = pd.read_csv(path)\n",
    "    df.rename(columns={\"CLASS\": \"raw_label\", \"CONTENT\": \"text\"}, inplace=True)\n",
    "    df[\"label\"] = df[\"raw_label\"].apply(lambda x: \"spam\" if x==1 else \"ham\")\n",
    "    df[\"source\"] = \"youtube-spam\"\n",
    "    df = df[[\"text\",\"raw_label\",\"label\",\"source\"]]\n",
    "    youtube_dfs.append(df)\n",
    "\n",
    "# combine all dataframes\n",
    "youtube_df = pd.concat(youtube_dfs)\n",
    "youtube_df.head()"
   ]
  },
  {
   "cell_type": "code",
   "execution_count": 44,
   "id": "52cc67c5",
   "metadata": {},
   "outputs": [
    {
     "data": {
      "text/html": [
       "<div>\n",
       "<style scoped>\n",
       "    .dataframe tbody tr th:only-of-type {\n",
       "        vertical-align: middle;\n",
       "    }\n",
       "\n",
       "    .dataframe tbody tr th {\n",
       "        vertical-align: top;\n",
       "    }\n",
       "\n",
       "    .dataframe thead th {\n",
       "        text-align: right;\n",
       "    }\n",
       "</style>\n",
       "<table border=\"1\" class=\"dataframe\">\n",
       "  <thead>\n",
       "    <tr style=\"text-align: right;\">\n",
       "      <th></th>\n",
       "      <th>label</th>\n",
       "      <th>text</th>\n",
       "      <th>raw_label</th>\n",
       "      <th>source</th>\n",
       "    </tr>\n",
       "  </thead>\n",
       "  <tbody>\n",
       "    <tr>\n",
       "      <th>0</th>\n",
       "      <td>ham</td>\n",
       "      <td>Go until jurong point, crazy.. Available only ...</td>\n",
       "      <td>0</td>\n",
       "      <td>sms-spam</td>\n",
       "    </tr>\n",
       "    <tr>\n",
       "      <th>1</th>\n",
       "      <td>ham</td>\n",
       "      <td>Ok lar... Joking wif u oni...</td>\n",
       "      <td>0</td>\n",
       "      <td>sms-spam</td>\n",
       "    </tr>\n",
       "    <tr>\n",
       "      <th>2</th>\n",
       "      <td>spam</td>\n",
       "      <td>Free entry in 2 a wkly comp to win FA Cup fina...</td>\n",
       "      <td>1</td>\n",
       "      <td>sms-spam</td>\n",
       "    </tr>\n",
       "    <tr>\n",
       "      <th>3</th>\n",
       "      <td>ham</td>\n",
       "      <td>U dun say so early hor... U c already then say...</td>\n",
       "      <td>0</td>\n",
       "      <td>sms-spam</td>\n",
       "    </tr>\n",
       "    <tr>\n",
       "      <th>4</th>\n",
       "      <td>ham</td>\n",
       "      <td>Nah I don't think he goes to usf, he lives aro...</td>\n",
       "      <td>0</td>\n",
       "      <td>sms-spam</td>\n",
       "    </tr>\n",
       "  </tbody>\n",
       "</table>\n",
       "</div>"
      ],
      "text/plain": [
       "  label                                               text  raw_label  \\\n",
       "0   ham  Go until jurong point, crazy.. Available only ...          0   \n",
       "1   ham                      Ok lar... Joking wif u oni...          0   \n",
       "2  spam  Free entry in 2 a wkly comp to win FA Cup fina...          1   \n",
       "3   ham  U dun say so early hor... U c already then say...          0   \n",
       "4   ham  Nah I don't think he goes to usf, he lives aro...          0   \n",
       "\n",
       "     source  \n",
       "0  sms-spam  \n",
       "1  sms-spam  \n",
       "2  sms-spam  \n",
       "3  sms-spam  \n",
       "4  sms-spam  "
      ]
     },
     "execution_count": 44,
     "metadata": {},
     "output_type": "execute_result"
    }
   ],
   "source": [
    "data = pd.concat([sms_df, youtube_df])\n",
    "data.head()"
   ]
  },
  {
   "cell_type": "code",
   "execution_count": 45,
   "id": "4d0942ba",
   "metadata": {},
   "outputs": [],
   "source": [
    "EXPORT_DIR = DATA_DIR / \"exports\"\n",
    "EXPORT_DIR.mkdir(exist_ok=True, parents=True)\n",
    "SPAM_DATASET_PATH = EXPORT_DIR / \"spam-dataset.csv\"\n",
    "\n",
    "data.to_csv(SPAM_DATASET_PATH, index=False)"
   ]
  },
  {
   "cell_type": "markdown",
   "id": "9c66f39c",
   "metadata": {},
   "source": [
    "# 3. Converting Dataset into Vectors"
   ]
  },
  {
   "cell_type": "code",
   "execution_count": 46,
   "id": "b9809c7c",
   "metadata": {},
   "outputs": [],
   "source": [
    "import pathlib\n",
    "import pandas as pd"
   ]
  },
  {
   "cell_type": "code",
   "execution_count": 49,
   "id": "ec10c439",
   "metadata": {},
   "outputs": [
    {
     "data": {
      "text/html": [
       "<div>\n",
       "<style scoped>\n",
       "    .dataframe tbody tr th:only-of-type {\n",
       "        vertical-align: middle;\n",
       "    }\n",
       "\n",
       "    .dataframe tbody tr th {\n",
       "        vertical-align: top;\n",
       "    }\n",
       "\n",
       "    .dataframe thead th {\n",
       "        text-align: right;\n",
       "    }\n",
       "</style>\n",
       "<table border=\"1\" class=\"dataframe\">\n",
       "  <thead>\n",
       "    <tr style=\"text-align: right;\">\n",
       "      <th></th>\n",
       "      <th>label</th>\n",
       "      <th>text</th>\n",
       "      <th>raw_label</th>\n",
       "      <th>source</th>\n",
       "    </tr>\n",
       "  </thead>\n",
       "  <tbody>\n",
       "    <tr>\n",
       "      <th>0</th>\n",
       "      <td>ham</td>\n",
       "      <td>Go until jurong point, crazy.. Available only ...</td>\n",
       "      <td>0</td>\n",
       "      <td>sms-spam</td>\n",
       "    </tr>\n",
       "    <tr>\n",
       "      <th>1</th>\n",
       "      <td>ham</td>\n",
       "      <td>Ok lar... Joking wif u oni...</td>\n",
       "      <td>0</td>\n",
       "      <td>sms-spam</td>\n",
       "    </tr>\n",
       "    <tr>\n",
       "      <th>2</th>\n",
       "      <td>spam</td>\n",
       "      <td>Free entry in 2 a wkly comp to win FA Cup fina...</td>\n",
       "      <td>1</td>\n",
       "      <td>sms-spam</td>\n",
       "    </tr>\n",
       "    <tr>\n",
       "      <th>3</th>\n",
       "      <td>ham</td>\n",
       "      <td>U dun say so early hor... U c already then say...</td>\n",
       "      <td>0</td>\n",
       "      <td>sms-spam</td>\n",
       "    </tr>\n",
       "    <tr>\n",
       "      <th>4</th>\n",
       "      <td>ham</td>\n",
       "      <td>Nah I don't think he goes to usf, he lives aro...</td>\n",
       "      <td>0</td>\n",
       "      <td>sms-spam</td>\n",
       "    </tr>\n",
       "  </tbody>\n",
       "</table>\n",
       "</div>"
      ],
      "text/plain": [
       "  label                                               text  raw_label  \\\n",
       "0   ham  Go until jurong point, crazy.. Available only ...          0   \n",
       "1   ham                      Ok lar... Joking wif u oni...          0   \n",
       "2  spam  Free entry in 2 a wkly comp to win FA Cup fina...          1   \n",
       "3   ham  U dun say so early hor... U c already then say...          0   \n",
       "4   ham  Nah I don't think he goes to usf, he lives aro...          0   \n",
       "\n",
       "     source  \n",
       "0  sms-spam  \n",
       "1  sms-spam  \n",
       "2  sms-spam  \n",
       "3  sms-spam  \n",
       "4  sms-spam  "
      ]
     },
     "execution_count": 49,
     "metadata": {},
     "output_type": "execute_result"
    }
   ],
   "source": [
    "data = pd.read_csv(SPAM_DATASET_PATH)\n",
    "data.head()"
   ]
  },
  {
   "cell_type": "code",
   "execution_count": 57,
   "id": "5edd30c9",
   "metadata": {},
   "outputs": [
    {
     "data": {
      "text/plain": [
       "{0: 'ham', 1: 'spam'}"
      ]
     },
     "execution_count": 57,
     "metadata": {},
     "output_type": "execute_result"
    }
   ],
   "source": [
    "raw_labels = data[\"raw_label\"].tolist()\n",
    "texts = data[\"text\"].tolist()\n",
    "\n",
    "label_legend = {\"ham\": 0, \"spam\": 1}\n",
    "label_legend_inverted = {val:key for key, val in label_legend.items()}"
   ]
  },
  {
   "cell_type": "code",
   "execution_count": 65,
   "id": "78039138",
   "metadata": {},
   "outputs": [],
   "source": [
    "# Testing that the conversion to list of of raw_labels in texts work correctly\n",
    "import random\n",
    "\n",
    "random_idx = random.randint(0, len(texts))\n",
    "assert texts[random_idx] == data.iloc[random_idx].text\n",
    "assert raw_labels[random_idx] == data.iloc[random_idx].raw_label"
   ]
  },
  {
   "cell_type": "code",
   "execution_count": 77,
   "id": "256dde0e",
   "metadata": {},
   "outputs": [],
   "source": [
    "from tensorflow.keras.preprocessing.text import Tokenizer\n",
    "\n",
    "MAX_NUM_WORDS = 280\n",
    "\n",
    "tokenizer = Tokenizer(num_words=MAX_NUM_WORDS)\n",
    "tokenizer.fit_on_texts(texts)\n",
    "\n",
    "sequences = tokenizer.texts_to_sequences(texts)\n",
    "#print(sequences)\n",
    "\n",
    "word_index = tokenizer.word_index\n",
    "#print(word_index)"
   ]
  },
  {
   "cell_type": "code",
   "execution_count": 92,
   "id": "e0a82375",
   "metadata": {},
   "outputs": [],
   "source": [
    "# padding the sequences to make sure each sequence is same length\n",
    "from tensorflow.keras.preprocessing.sequence import pad_sequences\n",
    "\n",
    "MAX_SEQUENCE_LENGTH = 300\n",
    "\n",
    "x = pad_sequences(sequences, maxlen=MAX_SEQUENCE_LENGTH)\n",
    "#print(x.shape) # (7528, 300)\n",
    "#print(x)"
   ]
  },
  {
   "cell_type": "code",
   "execution_count": 94,
   "id": "cdf7c761",
   "metadata": {},
   "outputs": [],
   "source": [
    "import numpy as np\n",
    "from tensorflow.keras.utils import to_categorical\n",
    "\n",
    "y = to_categorical(np.asarray(raw_labels))\n",
    "# print(y.shape) # (7528, 2)\n",
    "#print(y)"
   ]
  },
  {
   "cell_type": "markdown",
   "id": "a3a1ce48",
   "metadata": {},
   "source": [
    "# 4. Split and Export Dataset"
   ]
  },
  {
   "cell_type": "code",
   "execution_count": 105,
   "id": "3a102cf8",
   "metadata": {},
   "outputs": [],
   "source": [
    "from sklearn.model_selection import train_test_split\n",
    "\n",
    "x_train, x_test, y_train, y_test = train_test_split(x, y, test_size=0.2,  random_state=42)"
   ]
  },
  {
   "cell_type": "code",
   "execution_count": 108,
   "id": "7db5b17b",
   "metadata": {},
   "outputs": [],
   "source": [
    "METADATA_EXPORT_PATH = EXPORT_DIR / \"spam-metadata.pkl\"\n",
    "TOKENIZER_EXPORT_PATH = EXPORT_DIR / \"spam-tokenizer.json\""
   ]
  },
  {
   "cell_type": "code",
   "execution_count": 107,
   "id": "038f2732",
   "metadata": {},
   "outputs": [],
   "source": [
    "# pickle package can have malicious data. pickle is fine if you are manipulating the data but its not fine\n",
    "# if someone else sends you data.\n",
    "import pickle\n",
    "\n",
    "training_data = {\n",
    "    \"x_train\": x_train,\n",
    "    \"x_test\": x_test,\n",
    "    \"y_train\": y_train,\n",
    "    \"y_test\": y_test,\n",
    "    \"max_words\": MAX_NUM_WORDS,\n",
    "    \"max_sequence_length\": MAX_SEQUENCE_LENGTH,\n",
    "    \"label_legend\": label_legend,\n",
    "    \"label_legend_inverted\": label_legend_inverted,\n",
    "}\n",
    "\n",
    "tokenizer_json = tokenizer.to_json()"
   ]
  },
  {
   "cell_type": "code",
   "execution_count": 109,
   "id": "3b8dc5b3",
   "metadata": {},
   "outputs": [
    {
     "data": {
      "text/plain": [
       "1090335"
      ]
     },
     "execution_count": 109,
     "metadata": {},
     "output_type": "execute_result"
    }
   ],
   "source": [
    "with open(METADATA_EXPORT_PATH, \"wb\") as f:\n",
    "    pickle.dump(training_data, f)\n",
    "     \n",
    "TOKENIZER_EXPORT_PATH.write_text(tokenizer_json)"
   ]
  },
  {
   "cell_type": "code",
   "execution_count": null,
   "id": "5fae9db1",
   "metadata": {},
   "outputs": [],
   "source": []
  }
 ],
 "metadata": {
  "kernelspec": {
   "display_name": "Python 3 (ipykernel)",
   "language": "python",
   "name": "python3"
  },
  "language_info": {
   "codemirror_mode": {
    "name": "ipython",
    "version": 3
   },
   "file_extension": ".py",
   "mimetype": "text/x-python",
   "name": "python",
   "nbconvert_exporter": "python",
   "pygments_lexer": "ipython3",
   "version": "3.8.1"
  }
 },
 "nbformat": 4,
 "nbformat_minor": 5
}
