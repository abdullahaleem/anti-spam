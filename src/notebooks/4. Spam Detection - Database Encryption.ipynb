{
 "cells": [
  {
   "cell_type": "code",
   "execution_count": 2,
   "id": "2202dcaf",
   "metadata": {},
   "outputs": [
    {
     "name": "stdout",
     "output_type": "stream",
     "text": [
      "Collecting cryptography\n",
      "  Downloading cryptography-36.0.0-cp36-abi3-win_amd64.whl (2.2 MB)\n",
      "Requirement already satisfied: cffi>=1.12 in c:\\users\\user\\desktop\\projects\\spam-detection-microservice\\venv-spam-detection\\lib\\site-packages (from cryptography) (1.15.0)\n",
      "Requirement already satisfied: pycparser in c:\\users\\user\\desktop\\projects\\spam-detection-microservice\\venv-spam-detection\\lib\\site-packages (from cffi>=1.12->cryptography) (2.21)\n",
      "Installing collected packages: cryptography\n",
      "Successfully installed cryptography-36.0.0\n",
      "Note: you may need to restart the kernel to use updated packages.\n"
     ]
    },
    {
     "name": "stderr",
     "output_type": "stream",
     "text": [
      "WARNING: You are using pip version 20.1; however, version 21.3.1 is available.\n",
      "You should consider upgrading via the 'c:\\users\\user\\desktop\\projects\\spam-detection-microservice\\venv-spam-detection\\scripts\\python.exe -m pip install --upgrade pip' command.\n"
     ]
    }
   ],
   "source": [
    "%pip install cryptography"
   ]
  },
  {
   "cell_type": "code",
   "execution_count": 23,
   "id": "c33b8d01",
   "metadata": {},
   "outputs": [],
   "source": [
    "import pathlib\n",
    "from cryptography.fernet import Fernet"
   ]
  },
  {
   "cell_type": "code",
   "execution_count": 7,
   "id": "e83119b7",
   "metadata": {},
   "outputs": [],
   "source": [
    "key = Fernet.generate_key().decode(\"UTF-8\")"
   ]
  },
  {
   "cell_type": "code",
   "execution_count": 24,
   "id": "291619eb",
   "metadata": {},
   "outputs": [],
   "source": [
    "fer = Fernet(key)"
   ]
  },
  {
   "cell_type": "code",
   "execution_count": 26,
   "id": "521c4a3d",
   "metadata": {},
   "outputs": [],
   "source": [
    "BASE_DIR = pathlib.Path().resolve().parent\n",
    "APP_DIR = BASE_DIR / \"app\"\n",
    "IGNORED_DIR = APP_DIR / \"ignored\"\n",
    "ENCRYPTED_DIR = APP_DIR / \"encrypted\"\n",
    "DECRYPTED_DIR = APP_DIR / \"decrypted\"\n",
    "\n",
    "ENCRYPTED_DIR.mkdir(exist_ok=True, parents=True)\n",
    "DECRYPTED_DIR.mkdir(exist_ok=True, parents=True)\n",
    "\n"
   ]
  },
  {
   "cell_type": "code",
   "execution_count": null,
   "id": "71fb5b59",
   "metadata": {},
   "outputs": [],
   "source": [
    "# encrypt database files\n",
    "for path in IGNORED_DIR.glob(\"*\"):\n",
    "    _path_bytes = path.read_bytes()\n",
    "    data = fer.encrypt(_path_bytes)\n",
    "    relative_path = path.relative_to(IGNORED_DIR)\n",
    "    dest_path = ENCRYPTED_DIR / relative_path\n",
    "    dest_path.write_bytes(data)"
   ]
  },
  {
   "cell_type": "code",
   "execution_count": 28,
   "id": "ff36c8cc",
   "metadata": {},
   "outputs": [],
   "source": [
    "# decrypt database files\n",
    "for path in ENCRYPTED_DIR.glob(\"*\"):\n",
    "    _path_bytes = path.read_bytes()\n",
    "    data = fer.decrypt(_path_bytes)\n",
    "    relative_path = path.relative_to(ENCRYPTED_DIR)\n",
    "    dest_path = DECRYPTED_DIR / relative_path\n",
    "    dest_path.write_bytes(data)"
   ]
  },
  {
   "cell_type": "code",
   "execution_count": null,
   "id": "cab96372",
   "metadata": {},
   "outputs": [],
   "source": []
  }
 ],
 "metadata": {
  "kernelspec": {
   "display_name": "Python 3 (ipykernel)",
   "language": "python",
   "name": "python3"
  },
  "language_info": {
   "codemirror_mode": {
    "name": "ipython",
    "version": 3
   },
   "file_extension": ".py",
   "mimetype": "text/x-python",
   "name": "python",
   "nbconvert_exporter": "python",
   "pygments_lexer": "ipython3",
   "version": "3.8.1"
  }
 },
 "nbformat": 4,
 "nbformat_minor": 5
}
