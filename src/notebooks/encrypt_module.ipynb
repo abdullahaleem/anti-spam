{
 "cells": [
  {
   "cell_type": "code",
   "execution_count": 12,
   "id": "c33b8d01",
   "metadata": {},
   "outputs": [],
   "source": [
    "import os\n",
    "import pathlib\n",
    "from cryptography.fernet import Fernet\n",
    "from dotenv import load_dotenv"
   ]
  },
  {
   "cell_type": "code",
   "execution_count": 13,
   "id": "a7905bec",
   "metadata": {},
   "outputs": [],
   "source": [
    "load_dotenv()\n",
    "\n",
    "ENCRYPTION_KEY = os.environ.get(\"ENCRYPTION_KEY\")"
   ]
  },
  {
   "cell_type": "code",
   "execution_count": 2,
   "id": "291619eb",
   "metadata": {},
   "outputs": [],
   "source": [
    "def generate_key():\n",
    "    return Fernet.generate_key().decode(\"UTF-8\")\n",
    "\n",
    "# generate it once and save to os.environ\n",
    "# generate_key()"
   ]
  },
  {
   "cell_type": "code",
   "execution_count": 15,
   "id": "521c4a3d",
   "metadata": {},
   "outputs": [],
   "source": [
    "BASE_DIR = pathlib.Path().resolve().parent\n",
    "APP_DIR = BASE_DIR / \"app\"\n",
    "IGNORED_DIR = APP_DIR / \"ignored\"\n",
    "ENCRYPTED_DIR = APP_DIR / \"encrypted\"\n",
    "DECRYPTED_DIR = APP_DIR / \"decrypted\""
   ]
  },
  {
   "cell_type": "code",
   "execution_count": 14,
   "id": "ab44a719",
   "metadata": {},
   "outputs": [],
   "source": [
    "def encrypt_dir(input_dir, output_dir):\n",
    "    \n",
    "    key = ENCRYPTION_KEY\n",
    "    if not key:\n",
    "        raise Exception(\"Encryption key not found\")\n",
    "    \n",
    "    fer = Fernet(key)\n",
    "    input_dir = pathlib.Path(input_dir)\n",
    "    output_dir = pathlib.Path(output_dir)\n",
    "    output_dir.mkdir(exist_ok=True, parents=True)\n",
    "    \n",
    "    for path in input_dir.glob(\"*\"):\n",
    "        _path_bytes = path.read_bytes()\n",
    "        data = fer.encrypt(_path_bytes)\n",
    "        relative_path = path.relative_to(input_dir)\n",
    "        dest_path = output_dir / relative_path\n",
    "        dest_path.write_bytes(data)"
   ]
  },
  {
   "cell_type": "code",
   "execution_count": 18,
   "id": "71fb5b59",
   "metadata": {},
   "outputs": [],
   "source": [
    "def decrypt_dir(input_dir, output_dir):\n",
    "    \n",
    "    key = ENCRYPTION_KEY\n",
    "    if not key:\n",
    "        raise Exception(\"Encryption key not found\")\n",
    "    \n",
    "    fer = Fernet(key)\n",
    "    input_dir = pathlib.Path(input_dir)\n",
    "    output_dir = pathlib.Path(output_dir)\n",
    "    output_dir.mkdir(exist_ok=True, parents=True)\n",
    "    \n",
    "    for path in input_dir.glob(\"*\"):\n",
    "        _path_bytes = path.read_bytes()\n",
    "        data = fer.decrypt(_path_bytes)\n",
    "        relative_path = path.relative_to(input_dir)\n",
    "        dest_path = output_dir / relative_path\n",
    "        dest_path.write_bytes(data)"
   ]
  }
 ],
 "metadata": {
  "kernelspec": {
   "display_name": "Python 3 (ipykernel)",
   "language": "python",
   "name": "python3"
  },
  "language_info": {
   "codemirror_mode": {
    "name": "ipython",
    "version": 3
   },
   "file_extension": ".py",
   "mimetype": "text/x-python",
   "name": "python",
   "nbconvert_exporter": "python",
   "pygments_lexer": "ipython3",
   "version": "3.8.1"
  }
 },
 "nbformat": 4,
 "nbformat_minor": 5
}
